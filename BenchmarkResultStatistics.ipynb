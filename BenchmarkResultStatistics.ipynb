{
 "cells": [
  {
   "cell_type": "markdown",
   "metadata": {},
   "source": [
    "# Benchmark test result for reading sas7bdat files in python using following packages:\n",
    "<ol>\n",
    "    <li>pandas.read_sas</li>\n",
    "    <li>sas7bdat.SAS7BDAT</li>\n",
    "    <li>pyreadstat.read_sas7bdat</li>\n",
    "</ol>\n",
    "\n",
    "    "
   ]
  },
  {
   "cell_type": "markdown",
   "metadata": {},
   "source": [
    "<i> There are 35 sas7bdat US disease data files of different sizes ranging from 5KB to 697KB downloaded from https://content.sph.harvard.edu/fitzmaur/ala2e/datasets.html  </i>"
   ]
  },
  {
   "cell_type": "code",
   "execution_count": 3,
   "metadata": {},
   "outputs": [],
   "source": [
    "import pandas as pd\n",
    "\n",
    "df = pd.read_csv('benchmark_result.csv')"
   ]
  },
  {
   "cell_type": "code",
   "execution_count": 2,
   "metadata": {
    "scrolled": true
   },
   "outputs": [
    {
     "data": {
      "text/html": [
       "<div>\n",
       "<style scoped>\n",
       "    .dataframe tbody tr th:only-of-type {\n",
       "        vertical-align: middle;\n",
       "    }\n",
       "\n",
       "    .dataframe tbody tr th {\n",
       "        vertical-align: top;\n",
       "    }\n",
       "\n",
       "    .dataframe thead th {\n",
       "        text-align: right;\n",
       "    }\n",
       "</style>\n",
       "<table border=\"1\" class=\"dataframe\">\n",
       "  <thead>\n",
       "    <tr style=\"text-align: right;\">\n",
       "      <th></th>\n",
       "      <th>Epoch</th>\n",
       "      <th>pandas (milisecond)</th>\n",
       "      <th>sas7bdat (milisecond)</th>\n",
       "      <th>pyreadstat (milisecond)</th>\n",
       "    </tr>\n",
       "  </thead>\n",
       "  <tbody>\n",
       "    <tr>\n",
       "      <th>count</th>\n",
       "      <td>100.000000</td>\n",
       "      <td>100.000000</td>\n",
       "      <td>100.000000</td>\n",
       "      <td>100.000000</td>\n",
       "    </tr>\n",
       "    <tr>\n",
       "      <th>mean</th>\n",
       "      <td>49.500000</td>\n",
       "      <td>427.845680</td>\n",
       "      <td>484.357750</td>\n",
       "      <td>111.188510</td>\n",
       "    </tr>\n",
       "    <tr>\n",
       "      <th>std</th>\n",
       "      <td>29.011492</td>\n",
       "      <td>93.453933</td>\n",
       "      <td>144.387136</td>\n",
       "      <td>31.822106</td>\n",
       "    </tr>\n",
       "    <tr>\n",
       "      <th>min</th>\n",
       "      <td>0.000000</td>\n",
       "      <td>118.973000</td>\n",
       "      <td>52.581000</td>\n",
       "      <td>80.781000</td>\n",
       "    </tr>\n",
       "    <tr>\n",
       "      <th>25%</th>\n",
       "      <td>24.750000</td>\n",
       "      <td>381.536000</td>\n",
       "      <td>406.810750</td>\n",
       "      <td>87.625500</td>\n",
       "    </tr>\n",
       "    <tr>\n",
       "      <th>50%</th>\n",
       "      <td>49.500000</td>\n",
       "      <td>427.138000</td>\n",
       "      <td>464.539000</td>\n",
       "      <td>97.768000</td>\n",
       "    </tr>\n",
       "    <tr>\n",
       "      <th>75%</th>\n",
       "      <td>74.250000</td>\n",
       "      <td>452.601750</td>\n",
       "      <td>543.096000</td>\n",
       "      <td>125.657500</td>\n",
       "    </tr>\n",
       "    <tr>\n",
       "      <th>max</th>\n",
       "      <td>99.000000</td>\n",
       "      <td>874.632000</td>\n",
       "      <td>996.600000</td>\n",
       "      <td>291.212000</td>\n",
       "    </tr>\n",
       "  </tbody>\n",
       "</table>\n",
       "</div>"
      ],
      "text/plain": [
       "            Epoch  pandas (milisecond)  sas7bdat (milisecond)  \\\n",
       "count  100.000000           100.000000             100.000000   \n",
       "mean    49.500000           427.845680             484.357750   \n",
       "std     29.011492            93.453933             144.387136   \n",
       "min      0.000000           118.973000              52.581000   \n",
       "25%     24.750000           381.536000             406.810750   \n",
       "50%     49.500000           427.138000             464.539000   \n",
       "75%     74.250000           452.601750             543.096000   \n",
       "max     99.000000           874.632000             996.600000   \n",
       "\n",
       "       pyreadstat (milisecond)  \n",
       "count               100.000000  \n",
       "mean                111.188510  \n",
       "std                  31.822106  \n",
       "min                  80.781000  \n",
       "25%                  87.625500  \n",
       "50%                  97.768000  \n",
       "75%                 125.657500  \n",
       "max                 291.212000  "
      ]
     },
     "execution_count": 2,
     "metadata": {},
     "output_type": "execute_result"
    }
   ],
   "source": [
    "df.describe()"
   ]
  }
 ],
 "metadata": {
  "kernelspec": {
   "display_name": "Python 3.7.5 64-bit",
   "language": "python",
   "name": "python37564bit41e4a741dd1f408ba90cd4ddfae78239"
  },
  "language_info": {
   "codemirror_mode": {
    "name": "ipython",
    "version": 3
   },
   "file_extension": ".py",
   "mimetype": "text/x-python",
   "name": "python",
   "nbconvert_exporter": "python",
   "pygments_lexer": "ipython3",
   "version": "3.7.5"
  }
 },
 "nbformat": 4,
 "nbformat_minor": 4
}
